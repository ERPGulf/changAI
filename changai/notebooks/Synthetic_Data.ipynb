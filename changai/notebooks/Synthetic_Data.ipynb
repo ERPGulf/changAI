{
  "nbformat": 4,
  "nbformat_minor": 0,
  "metadata": {
    "colab": {
      "provenance": [],
      "authorship_tag": "ABX9TyNc3nBuvhen0NtPnqqXpMox",
      "include_colab_link": true
    },
    "kernelspec": {
      "name": "python3",
      "display_name": "Python 3"
    },
    "language_info": {
      "name": "python"
    }
  },
  "cells": [
    {
      "cell_type": "markdown",
      "metadata": {
        "id": "view-in-github",
        "colab_type": "text"
      },
      "source": [
        "<a href=\"https://colab.research.google.com/github/ERPGulf/changAI/blob/alpha/changai/notebooks/Synthetic_Data.ipynb\" target=\"_parent\"><img src=\"https://colab.research.google.com/assets/colab-badge.svg\" alt=\"Open In Colab\"/></a>"
      ]
    },
    {
      "cell_type": "code",
      "execution_count": null,
      "metadata": {
        "id": "IXmYediPY6Zw"
      },
      "outputs": [],
      "source": [
        "!pip -q install openai pydantic==2.*\n",
        "\n",
        "import os, json, re, time\n",
        "from typing import List, Dict, Any\n",
        "from pydantic import BaseModel, ValidationError\n",
        "from openai import OpenAI\n",
        "\n",
        "# Set your key (Colab: Runtime > Secrets or set manually)\n",
        "from google.colab import userdata\n",
        "key = userdata.get(\"OPENAI_API_KEY\")\n",
        "\n",
        "client = OpenAI(api_key=key)\n",
        "\n",
        "MODEL_BASES   = \"gpt-4o\"  # good quality; batch gives -50% token price\n",
        "MODEL_VARIANTS = \"gpt-4o\"  # you can try a cheaper instruct-compatible model if available\n"
      ]
    },
    {
      "cell_type": "code",
      "source": [
        "DOCTYPE   = \"Customer\"\n",
        "META_PATH = \"/content/meta.json\"\n",
        "\n",
        "def load_fields(doctype: str) -> List[str]:\n",
        "    with open(META_PATH, \"r\", encoding=\"utf-8\") as f:\n",
        "        meta = json.load(f)\n",
        "    fields = (meta.get(doctype) or {}).get(\"fields\", [])\n",
        "    return fields\n",
        "FIELDS = load_fields(DOCTYPE)\n",
        "\n",
        "class FlanRecord(BaseModel):\n",
        "    input: Dict[str, Any]\n",
        "    output: str\n"
      ],
      "metadata": {
        "id": "0UTPWjq4ZHt9"
      },
      "execution_count": null,
      "outputs": []
    },
    {
      "cell_type": "code",
      "source": [
        "def stage_a_master_prompt(doctype: str, fields: list, used_examples: list) -> str:\n",
        "    return f\"\"\"\n",
        "You are an expert dataset generator for ERPNext AI assistants.\n",
        "\n",
        "Task:\n",
        "For the ERPNext doctype: {doctype}, generate EXACTLY 5 DISTINCT, DIVERSE, and VERY REALISTIC messy business questions that normal ERP users would actually type or say in daily work.\n",
        "⚠️ IMPORTANT: Do NOT repeat, rephrase, or make similar any question from {used_examples}.\n",
        "\n",
        "Language style rules:\n",
        "- Questions must be messy, casual, and sometimes grammatically wrong.\n",
        "- Use slang, shorthand, or typos (e.g., \"cust inv\", \"cn u show unpaid\", \"cstmr w/o ph no\").\n",
        "- Include broken grammar, abbreviations, missing words, local-style typing.\n",
        "- Avoid robotic/professional phrasing.\n",
        "- No vague placeholders like \"some\", \"specific\", \"certain\".\n",
        "- Always use concrete realistic filters/values (e.g., \"Dubai\", \"Q2 2024\", \"last 30 days\", \"credit > 5k\").\n",
        "- Keep short like real ERP quick queries (6–16 words).\n",
        "\n",
        "Field rules:\n",
        "- Use ONLY from: {fields}\n",
        "- \"input.fields\" must include EVERY field used in SQL (SELECT, WHERE, GROUP BY, ORDER BY).\n",
        "- Use 2–8 fields total; always include \"name\" for row-list queries.\n",
        "\n",
        "Diversity:\n",
        "- Each question must be a UNIQUE intent (not just rewording).\n",
        "- Cover broad functional types: totals/aggregates, overdue/pending, top-N/rankings, by-attribute segmentation, date-range/period, recent/latest, comparisons, anomalies/exceptions, KPI thresholds, activity/changes, full-record retrieval.\n",
        "- At most 2 can be simple counts.\n",
        "- Questions MUST feel like real messy queries from non-technical users, not robotic.\n",
        "\n",
        "Used base questions (NEVER repeat, rephrase, or paraphrase):\n",
        "{used_examples}\n",
        "\n",
        "Output format (JSONL only, one per line; no arrays, no prose, no markdown):\n",
        "{{\n",
        "  \"input\": {{\n",
        "    \"doctype\": \"{doctype}\",\n",
        "    \"question\": \"<messy realistic business question>\",\n",
        "    \"fields\": [\"name\", \"<other fields used>\"]\n",
        "  }},\n",
        "  \"output\": \"frappe.db.sql(\\\\\"<VALID SQL query>\\\", as_dict=True)\"\n",
        "}}\n",
        "\"\"\".strip()\n"
      ],
      "metadata": {
        "id": "xfplSmjqZK5U"
      },
      "execution_count": null,
      "outputs": []
    },
    {
      "cell_type": "code",
      "source": [
        "def write_stage_a_batch_jsonl(path: str, n_calls: int = 10):\n",
        "    used_examples = [\n",
        "    \"How many customers are in the 'Retail' group?\",\n",
        "    \"List customers with no email address\",\n",
        "    \"Who are the top 5 customers by revenue?\",\n",
        "    \"Who are the top 5 customers by sales in Dubai?\",\n",
        "    \"Total number of customers in Dubai?\",\n",
        "    \"Show top 5 customers by sales team size\",\n",
        "    \"Who are the top 5 customers by sales?\",\n",
        "    \"Who are the top 5 customers by sales in Q2 2024?\",\n",
        "    \"List all customers by territory in Dubai\",\n",
        "    \"What are the top 5 customers by sales team?\",\n",
        "    \"Cn u list cust w/o mobile no?\",\n",
        "    \"Cust w/o mobile no?\",\n",
        "    \"List customers who have 'Technology' as their industry\",\n",
        "    \"List customers with missing tax ID\",\n",
        "    \"List customers w/ no mobile_no\",\n",
        "    \"Top 3 customers by market segment in Q1 2023?\",\n",
        "    \"Get cust w/o mob no.\",\n",
        "    \"Top 3 customers by loyalty program tier?\",\n",
        "    \"How many customers have joined in the last 30 days?\",\n",
        "    \"How many customers joined in last 30 days?\",\n",
        "    \"How many customers joined in the last month?\",\n",
        "    \"How many customers have a loyalty program tier of 'Gold'?\",\n",
        "    \"Total customers in the 'Wholesale' group?\"\n",
        "]\n",
        "\n",
        "    prompt = stage_a_master_prompt(DOCTYPE, FIELDS,used_examples)\n",
        "    with open(path, \"w\", encoding=\"utf-8\") as f:\n",
        "        for i in range(1, n_calls+1):\n",
        "            item = {\n",
        "                \"custom_id\": f\"stageA_{DOCTYPE}_{i:04d}\",\n",
        "                \"method\": \"POST\",\n",
        "                \"url\": \"/v1/chat/completions\",\n",
        "                \"body\": {\n",
        "                    \"model\": MODEL_BASES,\n",
        "                    \"messages\": [\n",
        "                        {\"role\":\"system\",\"content\":\"Output strict JSON only.\"},\n",
        "                        {\"role\":\"user\",\"content\": prompt}\n",
        "                    ],\n",
        "                    \"response_format\": {\"type\":\"json_object\"},\n",
        "                    \"temperature\": 0.4,\n",
        "                    \"max_tokens\": 2000\n",
        "                }\n",
        "            }\n",
        "            f.write(json.dumps(item, ensure_ascii=False) + \"\\n\")\n",
        "\n",
        "stageA_in = f\"stageA_{DOCTYPE}_inputs_5.jsonl\"\n",
        "write_stage_a_batch_jsonl(stageA_in, n_calls=1)\n",
        "print(\"Wrote:\", stageA_in)"
      ],
      "metadata": {
        "id": "mM9-VZJZZMqM"
      },
      "execution_count": null,
      "outputs": []
    },
    {
      "cell_type": "code",
      "source": [
        "up_a = client.files.create(file=open(stageA_in, \"rb\"), purpose=\"batch\")\n",
        "batch_a = client.batches.create(\n",
        "    input_file_id=up_a.id,\n",
        "    endpoint=\"/v1/chat/completions\",\n",
        "    completion_window=\"24h\"\n",
        ")"
      ],
      "metadata": {
        "id": "4tVAoNrhZN_P"
      },
      "execution_count": null,
      "outputs": []
    },
    {
      "cell_type": "code",
      "source": [
        "print(\"Stage A batch id:\", batch_a.id, \" input file id:\", up_a.id)\n",
        "status = client.batches.retrieve(batch_a.id)\n",
        "print(\"Status:\", status.status)\n",
        "if status.status == \"completed\":\n",
        "    out_id = status.output_file_id\n",
        "    print(\"Output file id:\", out_id)\n",
        "content = client.files.content(out_id)\n",
        "with open(\"stageA_outputs_5.jsonl\", \"wb\") as f:\n",
        "    f.write(content.read())\n",
        "print(\"Saved results to stageA_outputs_5.jsonl\")"
      ],
      "metadata": {
        "id": "59IlqRgyZO7V"
      },
      "execution_count": null,
      "outputs": []
    },
    {
      "cell_type": "code",
      "source": [
        "import json\n",
        "bases = []\n",
        "with open(\"/content/Stage1Customer\", \"r\", encoding=\"utf-8\") as f:\n",
        "  bases = json.load(f)"
      ],
      "metadata": {
        "id": "8_8cpyCwZQtD"
      },
      "execution_count": null,
      "outputs": []
    },
    {
      "cell_type": "code",
      "source": [
        "seen=set()\n",
        "results_=[]\n",
        "for b in bases:\n",
        "  qstn=b[\"input\"][\"question\"]\n",
        "  if qstn not in seen:\n",
        "    seen.add(qstn)\n",
        "    results_.append(b)"
      ],
      "metadata": {
        "id": "nCQdA2NWZRzm"
      },
      "execution_count": null,
      "outputs": []
    },
    {
      "cell_type": "code",
      "source": [
        "def variant_prompt_100(doctype: str, base_q: str) -> str:\n",
        "    return f\"\"\"\n",
        "Goal: Generate EXACTLY 100 messy/casual variants of this base ERP question (same intent, no new filters/dates/metrics).\n",
        "BASE: \"{base_q}\"\n",
        "\n",
        "Rules:\n",
        "- Only output a JSON object with key \"questions\": a list of 100 strings.\n",
        "- Each string must be a DISTINCT messy/natural variant of the base.\n",
        "- Use at most ONE synonym for {doctype} Eg : Customer :client,buyer,consumer,shopper,patron,end-user,customer,cust,customer acc,cstmr,byer\n",
        "- Messiness styles: word-order shuffle, symbols/slashes, shorthand, fillers, telegraphic, hashtags, punctuation bursts, missing punctuation, abbreviations, typos, phonetic spellings, lazy typing.\n",
        "- Keep realistic, short ERP-style queries (3–18 words, business tone).\n",
        "- No duplicates, no placeholders, no paraphrases that look robotic.\n",
        "\n",
        "Output format (strict JSON):\n",
        "{{\n",
        "  \"questions\": [\n",
        "    \"variant 1\",\n",
        "    \"variant 2\",\n",
        "    ...\n",
        "    \"variant 100\"\n",
        "  ]\n",
        "}}\n",
        "\"\"\".strip()\n",
        "\n",
        "\n",
        "def write_stage_b_batch_jsonl(bases: list, stageB_in_path: str): # Accept bases list as argument\n",
        "    with open(stageB_in_path, \"w\", encoding=\"utf-8\") as w: # Write to stageB_in_path\n",
        "        for i, b in enumerate(results_, start=1):\n",
        "            base_q = b[\"input\"][\"question\"]\n",
        "            item = {\n",
        "                \"custom_id\": f\"stageB_{DOCTYPE}_{i:04d}\",\n",
        "                \"method\": \"POST\",\n",
        "                \"url\": \"/v1/chat/completions\",\n",
        "                \"body\": {\n",
        "                    \"model\": MODEL_VARIANTS,\n",
        "                    \"messages\": [\n",
        "                        {\"role\":\"system\",\"content\":\"Output strict JSON only.\"},\n",
        "                        {\"role\":\"user\",\"content\": variant_prompt_100(DOCTYPE, base_q)}\n",
        "                    ],\n",
        "                    \"response_format\": {\"type\":\"json_object\"},\n",
        "                    \"temperature\": 0.9,\n",
        "                    \"max_tokens\": 1800\n",
        "                }\n",
        "            }\n",
        "            w.write(json.dumps(item, ensure_ascii=False) + \"\\n\")\n",
        "    print(\"Wrote:\", stageB_in_path, \"items:\", len(results_))\n",
        "\n",
        "# Example (after parsing Stage A):\n",
        "stageB_in = f\"stageB_{DOCTYPE}_inputs_1.jsonl\"\n",
        "write_stage_b_batch_jsonl(results_, stageB_in) # Pass the loaded bases list"
      ],
      "metadata": {
        "id": "iamhftZSZT6L"
      },
      "execution_count": null,
      "outputs": []
    },
    {
      "cell_type": "code",
      "source": [
        "up = client.files.create(file=open(stageB_in, \"rb\"), purpose=\"batch\")"
      ],
      "metadata": {
        "id": "0-bBnZNUZVbn"
      },
      "execution_count": null,
      "outputs": []
    },
    {
      "cell_type": "code",
      "source": [
        "up_a = client.files.create(file=open(stageB_in, \"rb\"), purpose=\"batch\")\n",
        "batch_a = client.batches.create(\n",
        "    input_file_id=up_a.id,\n",
        "    endpoint=\"/v1/chat/completions\",\n",
        "    completion_window=\"24h\"\n",
        ")"
      ],
      "metadata": {
        "id": "SFnqEKduZWek"
      },
      "execution_count": null,
      "outputs": []
    },
    {
      "cell_type": "code",
      "source": [
        "print(\"Batch ID:\", batch_a.id)"
      ],
      "metadata": {
        "id": "WD-XLf0TZXbP"
      },
      "execution_count": null,
      "outputs": []
    },
    {
      "cell_type": "code",
      "source": [
        "print(\"Stage A batch id:\", batch_a.id, \" input file id:\", up_a.id)\n",
        "status = client.batches.retrieve(batch_a.id)\n",
        "print(\"Status:\", status.status)\n",
        "if status.status == \"completed\":\n",
        "    out_id = status.output_file_id\n",
        "    print(\"Output file id:\", out_id)\n",
        "content = client.files.content(out_id)\n",
        "with open(\"stageB_outputs.jsonl\", \"wb\") as f:\n",
        "    f.write(content.read())\n",
        "print(\"Saved results to stageB_outputs.jsonl\")"
      ],
      "metadata": {
        "id": "Vjw4TyQ0ZZKI"
      },
      "execution_count": null,
      "outputs": []
    },
    {
      "cell_type": "code",
      "source": [
        "with open(\"S1Customer_no_dupes\",\"w\",encoding=\"utf-8\") as f:\n",
        "  json.dump(results_,f,ensure_ascii=True,indent=2)"
      ],
      "metadata": {
        "id": "uCKOglcCZabX"
      },
      "execution_count": null,
      "outputs": []
    },
    {
      "cell_type": "code",
      "source": [
        "print(results_)"
      ],
      "metadata": {
        "id": "9aw5uR17ZbYa"
      },
      "execution_count": null,
      "outputs": []
    },
    {
      "cell_type": "code",
      "source": [
        "bases=[]\n",
        "with open(\"/content/stageA_outputs_1.jsonl\", \"r\", encoding=\"utf-8\") as f:\n",
        "  for line in f:\n",
        "    if line.strip():\n",
        "        bases.append(json.loads(line))\n",
        "        print(bases[:1])"
      ],
      "metadata": {
        "id": "hiSrrOYIZcVo"
      },
      "execution_count": null,
      "outputs": []
    },
    {
      "cell_type": "code",
      "source": [
        "import json\n",
        "\n",
        "results = []\n",
        "\n",
        "with open(\"/content/stageA_outputs_1.jsonl\",\"r\",encoding=\"utf-8\") as f:\n",
        "    for line in f:\n",
        "        line = line.strip()\n",
        "        if not line:\n",
        "            continue\n",
        "        obj = json.loads(line)\n",
        "        content = obj.get(\"response\", {}) \\\n",
        "                     .get(\"body\", {}) \\\n",
        "                     .get(\"choices\", [{}])[0] \\\n",
        "                     .get(\"message\", {}) \\\n",
        "                     .get(\"content\", \"\")\n",
        "\n",
        "        if content:\n",
        "            try:\n",
        "                parsed = json.loads(content)   # convert JSON string -> dict\n",
        "                records = parsed.get(\"records\", [])\n",
        "                results.extend(records)        # add all records\n",
        "            except json.JSONDecodeError:\n",
        "                print(\"Invalid JSON:\", content[:100])  # debug\n",
        "\n",
        "print(\"Total records:\", len(results))\n",
        "print(results[:3])  # show first 3 records\n"
      ],
      "metadata": {
        "id": "b-oQl4JEZd72"
      },
      "execution_count": null,
      "outputs": []
    },
    {
      "cell_type": "code",
      "source": [
        "with open(\"/content/Stage1Customer\",\"w\",encoding=\"utf-8\") as f:\n",
        "  json.dump(results,f,ensure_ascii=True,indent=2)\n"
      ],
      "metadata": {
        "id": "3tdkBDEXZfQP"
      },
      "execution_count": null,
      "outputs": []
    },
    {
      "cell_type": "code",
      "source": [
        "results_[0][\"output\"]"
      ],
      "metadata": {
        "id": "nPHqMUZ3ZgQA"
      },
      "execution_count": null,
      "outputs": []
    },
    {
      "cell_type": "code",
      "source": [
        "with open(\"/content/stageB_outputs.jsonl\",\"r\",encoding=\"utf-8\") as f:\n",
        "  for line in f:\n",
        "    line=line.strip()\n",
        "    if not line:\n",
        "      continue\n",
        "    obj=json.loads(line)\n",
        "    content=obj.get(\"response\",{}) \\\n",
        "                  .get(\"body\",{}) \\\n",
        "                  .get(\"choices\",[{}])[0] \\\n",
        "                  .get(\"message\",{}) \\\n",
        "                  .get(\"content\",\"\")\n",
        "\n",
        "    for i in range(len(results_)):\n",
        "      if content:\n"
      ],
      "metadata": {
        "id": "e9bT5wrUZhVK"
      },
      "execution_count": null,
      "outputs": []
    },
    {
      "cell_type": "code",
      "source": [
        "with open(\"/content/stageB_outputs.jsonl\",\"r\",encoding=\"utf-8\") as f:\n",
        "  out=[]\n",
        "\n",
        "  for line in f:\n",
        "    line=line.strip()\n",
        "    if not line:\n",
        "      continue\n",
        "    obj=json.loads(line)\n",
        "    content=obj.get(\"response\",{}) \\\n",
        "                  .get(\"body\",{}) \\\n",
        "                  .get(\"choices\",[{}])[0] \\\n",
        "                  .get(\"message\",{}) \\\n",
        "                  .get(\"content\",\"\")\n",
        "    if content:\n",
        "            out.append({\n",
        "              \"input\": {\"doctype\": results_[i][\"input\"][\"doctype\"], \"question\": content, \"fields\": results_[i][\"input\"][\"fields\"]},\n",
        "              \"output\": results_[i][\"output\"]\n",
        "          })\n"
      ],
      "metadata": {
        "id": "o7sX1mRwZjiB"
      },
      "execution_count": null,
      "outputs": []
    }
  ]
}