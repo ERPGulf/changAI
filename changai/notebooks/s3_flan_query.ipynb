{
  "nbformat": 4,
  "nbformat_minor": 0,
  "metadata": {
    "colab": {
      "provenance": [],
      "machine_shape": "hm",
      "gpuType": "A100",
      "mount_file_id": "https://github.com/ERPGulf/changai/blob/hyrin/changai/notebooks/s3_flan_query.ipynb",
      "authorship_tag": "ABX9TyMwNqofLQbyvtvdmgw+UA3Z"
    },
    "kernelspec": {
      "name": "python3",
      "display_name": "Python 3"
    },
    "language_info": {
      "name": "python"
    },
    "accelerator": "GPU"
  },
  "cells": [
    {
      "cell_type": "code",
      "source": [
        "from google.colab import drive\n",
        "drive.mount(\"/content/drive\")"
      ],
      "metadata": {
        "id": "svNDhzaI40Ls"
      },
      "execution_count": null,
      "outputs": []
    },
    {
      "cell_type": "code",
      "source": [
        "!pip install transformers datasets accelerate\n",
        "from transformers import T5Tokenizer, T5ForConditionalGeneration, Seq2SeqTrainer, Seq2SeqTrainingArguments, DataCollatorForSeq2Seq\n",
        "from datasets import load_dataset, Dataset\n",
        "import json\n",
        "import torch"
      ],
      "metadata": {
        "id": "IG5bnOo5pQeF"
      },
      "execution_count": null,
      "outputs": []
    },
    {
      "cell_type": "code",
      "source": [
        "with open('/content/S3_flan_old.json') as f:\n",
        "    raw_data = json.load(f)"
      ],
      "metadata": {
        "id": "E_g2Zd-OpXMr"
      },
      "execution_count": null,
      "outputs": []
    },
    {
      "cell_type": "code",
      "source": [
        "!pip install transformers datasets torch"
      ],
      "metadata": {
        "id": "Jyz5SSCDpUMJ"
      },
      "execution_count": null,
      "outputs": []
    },
    {
      "cell_type": "code",
      "source": [
        "import json\n",
        "from datasets import Dataset\n",
        "from transformers import T5Tokenizer, T5ForConditionalGeneration\n",
        "from transformers import Seq2SeqTrainer, Seq2SeqTrainingArguments\n",
        "from transformers import DataCollatorForSeq2Seq"
      ],
      "metadata": {
        "id": "aGdtRxiWrYG4"
      },
      "execution_count": null,
      "outputs": []
    },
    {
      "cell_type": "code",
      "source": [
        "model_name = \"google/flan-t5-base\"\n",
        "tokenizer = T5Tokenizer.from_pretrained(model_name)"
      ],
      "metadata": {
        "id": "2NsElTwzuiuy"
      },
      "execution_count": null,
      "outputs": []
    },
    {
      "cell_type": "code",
      "source": [
        "print(tokenizer.tokenize(\"{\"))\n",
        "print(tokenizer.tokenize(\"}\"))"
      ],
      "metadata": {
        "id": "jlLZt7iuuhn9"
      },
      "execution_count": null,
      "outputs": []
    },
    {
      "cell_type": "code",
      "execution_count": null,
      "metadata": {
        "id": "BmYPxsr9pF2B"
      },
      "outputs": [],
      "source": [
        "from transformers import (\n",
        "    T5Tokenizer,\n",
        "    T5ForConditionalGeneration,\n",
        "    Seq2SeqTrainer,\n",
        "    Seq2SeqTrainingArguments,\n",
        "    DataCollatorForSeq2Seq\n",
        ")\n",
        "from datasets import Dataset\n",
        "import json\n",
        "\n",
        "# ✅ Load your dataset\n",
        "with open(\"/content/drive/MyDrive/Changai/S3/Datasets/S3_flan_old.json\") as f:\n",
        "    raw_data = json.load(f)\n",
        "\n",
        "INSTRUCTION = \"Generate the correct Frappe query for the given question, using the provided doctype and fields.\"\n",
        "\n",
        "# ✅ Prepare prompt-based data\n",
        "processed_data = []\n",
        "for entry in raw_data:\n",
        "    try:\n",
        "        input_data = entry[\"input\"]\n",
        "        if not isinstance(input_data, dict):\n",
        "            continue\n",
        "\n",
        "        prompt = (\n",
        "            f\"Instruction: {INSTRUCTION}\\n\"\n",
        "            f\"Doctype: {input_data['doctype']}\\n\"\n",
        "            f\"Question: {input_data['question']}\\n\"\n",
        "            f\"Fields: {input_data['fields']}\"\n",
        "        )\n",
        "\n",
        "        processed_data.append({\n",
        "            \"input\": prompt,\n",
        "            \"output\": entry[\"output\"]\n",
        "        })\n",
        "    except Exception as e:\n",
        "        print(\"Skipping due to error:\", e)\n",
        "        continue\n",
        "\n",
        "# ✅ Convert to Hugging Face Dataset\n",
        "dataset = Dataset.from_list(processed_data)\n",
        "dataset = dataset.train_test_split(test_size=0.1)\n",
        "\n",
        "\n",
        "model_name = \"google/flan-t5-base\"\n",
        "tokenizer = T5Tokenizer.from_pretrained(model_name)\n",
        "\n",
        "# ✅ Add curly braces as special tokens (ONLY if they map to <unk>)\n",
        "special_tokens_dict = {'additional_special_tokens': ['{', '}']}\n",
        "num_added = tokenizer.add_special_tokens(special_tokens_dict)\n",
        "\n",
        "# ✅ Load and resize model to accommodate new tokens\n",
        "model = T5ForConditionalGeneration.from_pretrained(model_name)\n",
        "model.resize_token_embeddings(len(tokenizer))\n",
        "\n",
        "# ✅ Tokenize with `{}` token loss reinforcement\n",
        "def tokenize_and_enhance_loss(example):\n",
        "    model_inputs = tokenizer(example[\"input\"], max_length=512, truncation=True, padding=\"max_length\")\n",
        "    with tokenizer.as_target_tokenizer():\n",
        "        labels = tokenizer(example[\"output\"], max_length=128, truncation=True, padding=\"max_length\")\n",
        "\n",
        "    # Reinforce loss on `{` and `}`\n",
        "    target_ids = labels[\"input_ids\"]\n",
        "    for i, token_id in enumerate(target_ids):\n",
        "        if token_id == tokenizer.pad_token_id:\n",
        "            target_ids[i] = -100  # Mask pad tokens\n",
        "        if token_id in [tokenizer.convert_tokens_to_ids('{'), tokenizer.convert_tokens_to_ids('}')]:\n",
        "            continue  # Keep loss for curly braces\n",
        "\n",
        "    model_inputs[\"labels\"] = target_ids\n",
        "    return model_inputs\n",
        "\n",
        "# ✅ Tokenize dataset\n",
        "tokenized_datasets = dataset.map(tokenize_and_enhance_loss, batched=False)\n",
        "\n",
        "# ✅ Define training arguments\n",
        "training_args = Seq2SeqTrainingArguments(\n",
        "    output_dir=\"/content/drive/MyDrive/Changai/S3_test\",\n",
        "    eval_strategy=\"epoch\",\n",
        "    learning_rate=3e-5,\n",
        "    per_device_train_batch_size=4,\n",
        "    per_device_eval_batch_size=4,\n",
        "    weight_decay=0.01,\n",
        "    save_total_limit=2,\n",
        "    num_train_epochs=10,\n",
        "    predict_with_generate=True,\n",
        "    logging_dir=\"./logs\",\n",
        "    logging_steps=100\n",
        ")\n",
        "\n",
        "# ✅ Data collator\n",
        "data_collator = DataCollatorForSeq2Seq(tokenizer, model=model)\n",
        "\n",
        "# ✅ Trainer setup\n",
        "trainer = Seq2SeqTrainer(\n",
        "    model=model,\n",
        "    args=training_args,\n",
        "    train_dataset=tokenized_datasets[\"train\"],\n",
        "    eval_dataset=tokenized_datasets[\"test\"],\n",
        "    tokenizer=tokenizer,\n",
        "    data_collator=data_collator,\n",
        ")\n",
        "\n",
        "# ✅ Train and Save\n",
        "trainer.train()\n",
        "trainer.evaluate()\n",
        "model.save_pretrained(\"/content/drive/MyDrive/Changai/S3_test\")\n",
        "tokenizer.save_pretrained(\"/content/drive/MyDrive/Changai/S3_test\")"
      ]
    },
    {
      "cell_type": "code",
      "source": [
        "from transformers import T5Tokenizer, T5ForConditionalGeneration\n",
        "\n",
        "model_path = \"/content/drive/MyDrive/Changai/S3_test\"\n",
        "tokenizer = T5Tokenizer.from_pretrained(model_path)\n",
        "model = T5ForConditionalGeneration.from_pretrained(model_path)\n",
        "\n",
        "# 🔍 Sample test input\n",
        "test_prompt = \"\"\"Instruction: Generate the correct Frappe query for the given question, using the provided doctype and fields.\n",
        "Doctype: Company\n",
        "Question: Show me company details where the name is 'France'.\n",
        "Fields: name, country\"\"\"\n",
        "\n",
        "inputs = tokenizer(test_prompt, return_tensors=\"pt\")\n",
        "\n",
        "output_ids = model.generate(\n",
        "    input_ids=inputs[\"input_ids\"],\n",
        "    max_length=128,\n",
        "    do_sample=False,\n",
        "    num_beams=4,\n",
        "    early_stopping=True\n",
        ")\n",
        "\n",
        "# ✅ Decode and print output\n",
        "output_text = tokenizer.decode(output_ids[0], skip_special_tokens=False)\n",
        "output_text=output_text.replace(\"<pad>\",\"\")\n",
        "output_text=output_text.replace(\"</s>\",\"\")\n",
        "print(\"📄 Generated Query:\\n\", output_text)\n"
      ],
      "metadata": {
        "id": "u8TdWc1M5gdj"
      },
      "execution_count": null,
      "outputs": []
    },
    {
      "cell_type": "code",
      "source": [
        "model_path=\"/content/drive/MyDrive/Changai/S3_test\"\n",
        "model = T5ForConditionalGeneration.from_pretrained(model_path)\n",
        "tokenizer = T5Tokenizer.from_pretrained(model_path)"
      ],
      "metadata": {
        "id": "n3xpq7Qm4kUs"
      },
      "execution_count": null,
      "outputs": []
    },
    {
      "cell_type": "code",
      "source": [
        "from huggingface_hub import HfApi, HfFolder, notebook_login\n",
        "notebook_login()"
      ],
      "metadata": {
        "id": "2wMGhtsh5wq-"
      },
      "execution_count": null,
      "outputs": []
    },
    {
      "cell_type": "code",
      "source": [
        "from huggingface_hub import create_repo\n",
        "\n",
        "create_repo(\"text2frappe-s3-flan-query\", private=True)"
      ],
      "metadata": {
        "id": "jqNROwFk56xT"
      },
      "execution_count": null,
      "outputs": []
    },
    {
      "cell_type": "code",
      "source": [
        "from huggingface_hub import upload_folder\n",
        "\n",
        "upload_folder(\n",
        "    repo_id=\"hyrinmansoor/text2frappe-s3-flan-query\",\n",
        "    folder_path=model_path,\n",
        "    path_in_repo=\".\",\n",
        "    repo_type=\"model\"\n",
        ")\n"
      ],
      "metadata": {
        "id": "xOzripLk7C1k"
      },
      "execution_count": null,
      "outputs": []
    },
    {
      "cell_type": "code",
      "source": [
        "from transformers import T5ForConditionalGeneration, T5Tokenizer\n",
        "\n",
        "model = T5ForConditionalGeneration.from_pretrained('hyrinmansoor/text2frappe-s3-flan-query')\n",
        "tokenizer = T5Tokenizer.from_pretrained('hyrinmansoor/text2frappe-s3-flan-query')\n",
        "test_cases = [\n",
        "    \"\"\"Instruction: Generate the correct Frappe query for the given question, using the provided doctype and fields.\n",
        "Doctype: Company\n",
        "Fields: company_name\n",
        "Question: What's the full name of our primary registered company named 'HTS Pvt Ltd'?\"\"\",\n",
        "\n",
        "    \"\"\"Instruction: Generate the correct Frappe query for the given question, using the provided doctype and fields.\n",
        "Doctype: Company\n",
        "Fields: parent_company\n",
        "Question: Who is listed as the parent company of 'FusionCorp International'?\"\"\",\n",
        "\n",
        "    \"\"\"Instruction: Generate the correct Frappe query for the given question, using the provided doctype and fields.\n",
        "Doctype: Finance Book\n",
        "Fields: finance_book_name\n",
        "Question: Can I rename or update the name of an existing finance book?\"\"\"\n",
        "]\n",
        "\n",
        "# Define generation function\n",
        "def generate_query(test_input):\n",
        "    inputs = tokenizer(test_input, return_tensors=\"pt\", max_length=512, truncation=True, padding=True)\n",
        "    outputs = model.generate(inputs['input_ids'], max_length=512, num_beams=5, early_stopping=True)\n",
        "    decoded= tokenizer.decode(outputs[0], skip_special_tokens=False)\n",
        "    decoded=output_text.replace(\"<pad>\",\"\")\n",
        "    decoded=output_text.replace(\"</s>\",\"\")\n",
        "    return decoded\n",
        "\n",
        "\n",
        "# Run test cases\n",
        "for i, test_input in enumerate(test_cases, start=1):\n",
        "    print(f\"\\n--- Test Case {i} ---\")\n",
        "    print(f\"Input:\\n{test_input}\")\n",
        "    print(\"\\nGenerated Query:\")\n",
        "    print(generate_query(test_input))\n",
        "    print(\"\\n\")\n"
      ],
      "metadata": {
        "id": "YeaBPhchpmX9"
      },
      "execution_count": null,
      "outputs": []
    }
  ]
}