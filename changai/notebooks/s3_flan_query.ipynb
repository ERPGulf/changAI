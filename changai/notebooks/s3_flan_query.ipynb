{
  "nbformat": 4,
  "nbformat_minor": 0,
  "metadata": {
    "colab": {
      "provenance": [],
      "machine_shape": "hm",
      "gpuType": "A100",
      "mount_file_id": "1qgtMwLFJ8maoFmvn7POoaU4oZTvmfjy5",
      "authorship_tag": "ABX9TyP8RNjxEWCW+mpNVyTdjZ81"
    },
    "kernelspec": {
      "name": "python3",
      "display_name": "Python 3"
    },
    "language_info": {
      "name": "python"
    },
    "accelerator": "GPU"
  },
  "cells": [
    {
      "cell_type": "code",
      "source": [
        "from google.colab import drive\n",
        "drive.mount(\"/content/drive\")"
      ],
      "metadata": {
        "id": "svNDhzaI40Ls"
      },
      "execution_count": null,
      "outputs": []
    },
    {
      "cell_type": "code",
      "source": [
        "#✅ Step 1: Install dependencies\n",
        "!pip install transformers datasets accelerate\n",
        "\n",
        "from google.colab import drive\n",
        "drive.mount(\"/content/drive\")\n",
        "\n",
        "# ✅ Step 2: Imports\n",
        "from transformers import T5Tokenizer, T5ForConditionalGeneration, Seq2SeqTrainer, Seq2SeqTrainingArguments, DataCollatorForSeq2Seq\n",
        "from datasets import load_dataset, Dataset\n",
        "import json\n",
        "import torch"
      ],
      "metadata": {
        "id": "IG5bnOo5pQeF"
      },
      "execution_count": null,
      "outputs": []
    },
    {
      "cell_type": "code",
      "source": [
        "# ✅ Step 3: Load your JSON dataset and preprocess (REMOVE instruction, add instruction dynamically)\n",
        "with open('/content/drive/MyDrive/Changai/S3/Datasets/S3_flan_new.json') as f:\n",
        "    raw_data = json.load(f)"
      ],
      "metadata": {
        "id": "E_g2Zd-OpXMr"
      },
      "execution_count": null,
      "outputs": []
    },
    {
      "cell_type": "code",
      "source": [
        "!pip install transformers datasets torch"
      ],
      "metadata": {
        "id": "Jyz5SSCDpUMJ"
      },
      "execution_count": null,
      "outputs": []
    },
    {
      "cell_type": "code",
      "source": [
        "# Standard Library\n",
        "import json\n",
        "\n",
        "# Hugging Face Libraries\n",
        "from datasets import Dataset\n",
        "from transformers import T5Tokenizer, T5ForConditionalGeneration\n",
        "from transformers import Seq2SeqTrainer, Seq2SeqTrainingArguments\n",
        "from transformers import DataCollatorForSeq2Seq"
      ],
      "metadata": {
        "id": "aGdtRxiWrYG4"
      },
      "execution_count": null,
      "outputs": []
    },
    {
      "cell_type": "code",
      "execution_count": null,
      "metadata": {
        "id": "BmYPxsr9pF2B"
      },
      "outputs": [],
      "source": [
        "INSTRUCTION = \"Generate the correct Frappe query for the given question, using the provided doctype and fields.\"\n",
        "\n",
        "# Convert into new list with flattened instruction\n",
        "processed_data = []\n",
        "processed_data = []\n",
        "for entry in raw_data:\n",
        "    try:\n",
        "        input_data = entry[\"input\"]\n",
        "        if not isinstance(input_data, dict):\n",
        "            continue  # skip malformed entry\n",
        "\n",
        "        prompt = (\n",
        "            f\"Instruction: {INSTRUCTION}\\n\"\n",
        "            f\"Doctype: {input_data['doctype']}\\n\"\n",
        "            f\"Question: {input_data['question']}\\n\"\n",
        "            f\"Fields: {input_data['fields']}\"\n",
        "        )\n",
        "\n",
        "        processed_data.append({\n",
        "            \"input\": prompt,\n",
        "            \"output\": entry[\"output\"]\n",
        "        })\n",
        "\n",
        "    except Exception as e:\n",
        "        print(\"Skipping due to error:\", e)\n",
        "        continue\n",
        "\n",
        "\n",
        "# ✅ Step 4: Convert to HuggingFace Dataset\n",
        "dataset = Dataset.from_list(processed_data)\n",
        "dataset = dataset.train_test_split(test_size=0.1)\n",
        "\n",
        "# ✅ Step 5: Tokenization\n",
        "tokenizer = T5Tokenizer.from_pretrained(\"google/flan-t5-base\")\n",
        "\n",
        "def tokenize_function(example):\n",
        "    model_inputs = tokenizer(example[\"input\"], max_length=512, truncation=True, padding=\"max_length\")\n",
        "    labels = tokenizer(example[\"output\"], max_length=128, truncation=True, padding=\"max_length\")\n",
        "    model_inputs[\"labels\"] = labels[\"input_ids\"]\n",
        "    return model_inputs\n",
        "\n",
        "tokenized_datasets = dataset.map(tokenize_function, batched=False)\n",
        "\n",
        "# ✅ Step 6: Load model\n",
        "model = T5ForConditionalGeneration.from_pretrained(\"google/flan-t5-base\")\n",
        "\n",
        "# ✅ Step 7: Training configuration\n",
        "training_args = Seq2SeqTrainingArguments(\n",
        "    output_dir=\"/content/drive/MyDrive/Changai/S3/Model/flan_s3_query_generator\",\n",
        "    eval_strategy=\"epoch\",\n",
        "    learning_rate=5e-5,\n",
        "    per_device_train_batch_size=4,\n",
        "    per_device_eval_batch_size=4,\n",
        "    weight_decay=0.01,\n",
        "    save_total_limit=2,\n",
        "    num_train_epochs=4,\n",
        "    predict_with_generate=True,\n",
        "    logging_dir=\"./logs\"\n",
        ")\n",
        "\n",
        "data_collator = DataCollatorForSeq2Seq(tokenizer, model=model)\n",
        "\n",
        "# ✅ Step 8: Trainer setup\n",
        "trainer = Seq2SeqTrainer(\n",
        "    model=model,\n",
        "    args=training_args,\n",
        "    train_dataset=tokenized_datasets[\"train\"],\n",
        "    eval_dataset=tokenized_datasets[\"test\"],\n",
        "    tokenizer=tokenizer,\n",
        "    data_collator=data_collator\n",
        ")\n",
        "\n",
        "# ✅ Step 9: Train\n",
        "trainer.train()\n",
        "trainer.evaluate()\n",
        "model.save_pretrained(\"/content/drive/MyDrive/Changai/S3/Model/flan_s3_query_generator\")\n",
        "tokenizer.save_pretrained(\"/content/drive/MyDrive/Changai/S3/Model/flan_s3_query_generator\")"
      ]
    },
    {
      "cell_type": "code",
      "source": [
        "from transformers import T5ForConditionalGeneration, T5Tokenizer\n",
        "\n",
        "# Load model and tokenizer\n",
        "model = T5ForConditionalGeneration.from_pretrained('/content/drive/MyDrive/Changai/S3/Model/flan_s3_query_generator')\n",
        "tokenizer = T5Tokenizer.from_pretrained('/content/drive/MyDrive/Changai/S3/Model/flan_s3_query_generator')\n",
        "\n",
        "# Define test cases\n",
        "test_cases = [\n",
        "    \"\"\"Instruction: Generate the correct Frappe query for the given question, using the provided doctype and fields.\n",
        "Doctype: Company\n",
        "Fields: company_name\n",
        "Question: What's the full name of our primary registered company named 'HTS Pvt Ltd'?\"\"\",\n",
        "\n",
        "    \"\"\"Instruction: Generate the correct Frappe query for the given question, using the provided doctype and fields.\n",
        "Doctype: Company\n",
        "Fields: parent_company\n",
        "Question: Who is listed as the parent company of 'FusionCorp International'?\"\"\",\n",
        "\n",
        "    \"\"\"Instruction: Generate the correct Frappe query for the given question, using the provided doctype and fields.\n",
        "Doctype: Finance Book\n",
        "Fields: finance_book_name\n",
        "Question: Can I rename or update the name of an existing finance book?\"\"\"\n",
        "]\n",
        "\n",
        "# Define generation function\n",
        "def generate_query(test_input):\n",
        "    inputs = tokenizer(test_input, return_tensors=\"pt\", max_length=512, truncation=True, padding=True)\n",
        "    outputs = model.generate(inputs['input_ids'], max_length=512, num_beams=5, early_stopping=True)\n",
        "    return tokenizer.decode(outputs[0], skip_special_tokens=True)\n",
        "\n",
        "# Run test cases\n",
        "for i, test_input in enumerate(test_cases, start=1):\n",
        "    print(f\"\\n--- Test Case {i} ---\")\n",
        "    print(f\"Input:\\n{test_input}\")\n",
        "    print(\"\\nGenerated Query:\")\n",
        "    print(generate_query(test_input))\n",
        "    print(\"\\n\")\n"
      ],
      "metadata": {
        "id": "YeaBPhchpmX9"
      },
      "execution_count": null,
      "outputs": []
    }
  ]
}