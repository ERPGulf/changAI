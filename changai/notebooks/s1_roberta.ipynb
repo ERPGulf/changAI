{
  "cells": [
    {
      "cell_type": "code",
      "execution_count": null,
      "metadata": {
        "id": "Rp39mXFvd1Jf"
      },
      "outputs": [],
      "source": [
        "from google.colab import drive\n",
        "drive.mount('/content/drive')"
      ]
    },
    {
      "cell_type": "code",
      "execution_count": null,
      "metadata": {
        "collapsed": true,
        "id": "iMSdtj0_xyQM"
      },
      "outputs": [],
      "source": [
        "!pip install transformers datasets torch"
      ]
    },
    {
      "cell_type": "code",
      "source": [
        "import json\n",
        "with open('/content/combined_output_v1.json') as f:\n",
        "    raw_data = json.load(f)"
      ],
      "metadata": {
        "id": "yJMBm3sMMw_9"
      },
      "execution_count": null,
      "outputs": []
    },
    {
      "cell_type": "code",
      "metadata": {
        "id": "7b004c58"
      },
      "source": [
        "print(raw_data[:5])"
      ],
      "execution_count": null,
      "outputs": []
    },
    {
      "cell_type": "code",
      "execution_count": null,
      "metadata": {
        "id": "IKenV_vpzuc-"
      },
      "outputs": [],
      "source": [
        "from datasets import Dataset\n",
        "raw_data = Dataset.from_list(raw_data)"
      ]
    },
    {
      "cell_type": "code",
      "execution_count": null,
      "metadata": {
        "id": "svGQzZdN2dXd"
      },
      "outputs": [],
      "source": [
        "# As for now we are not working on the multi doctypes questions, roberto can be trained on that case later to predict multi labels.\n",
        "def is_single_doctype(example):\n",
        "    output = example['output']\n",
        "    # If output is a list (bad), or output contains ',' or ' and '\n",
        "    if isinstance(output, list):\n",
        "        return False\n",
        "    if ',' in output or ' and ' in output.lower():\n",
        "        return False\n",
        "    return True\n",
        "\n",
        "# Filter train and val datasets\n",
        "filtered_data = raw_data.filter(is_single_doctype)\n",
        "split = filtered_data.train_test_split(test_size=0.2, seed=42, stratify_by_column='output')\n",
        "train_dataset, val_dataset = split['train'], split['test']\n",
        "print(\"Train size:\", len(train_dataset))\n",
        "print(\"Validation size:\", len(val_dataset))\n",
        "print(\"Columns:\", train_dataset.column_names)\n"
      ]
    },
    {
      "cell_type": "code",
      "execution_count": null,
      "metadata": {
        "id": "LJaXeJfs8ow_"
      },
      "outputs": [],
      "source": [
        "doctypes = sorted(list(set([','.join(record['output']) if isinstance(record['output'], list) else record['output'] for record in raw_data])))\n",
        "\n",
        "label2id = {label: idx for idx, label in enumerate(doctypes)}\n",
        "id2label = {idx: label for label, idx in label2id.items()}\n",
        "def encode_labels(example):\n",
        "    example['label'] = label2id[','.join(example['output']) if isinstance(example['output'], list) else example['output']]\n",
        "    return example\n",
        "\n",
        "train_dataset = train_dataset.map(encode_labels)\n",
        "val_dataset = val_dataset.map(encode_labels)\n",
        "print(doctypes)"
      ]
    },
    {
      "cell_type": "code",
      "source": [
        "from transformers import AutoTokenizer\n",
        "\n",
        "tokenizer = AutoTokenizer.from_pretrained('hyrinmansoor/text2frappe-s1-roberta')\n",
        "\n",
        "def preprocess_function(examples):\n",
        "    return tokenizer(examples['input'], truncation=True,padding='max_length',max_length=128)\n",
        "\n",
        "tokenized_train = train_dataset.map(preprocess_function, batched=True)\n",
        "tokenized_val = val_dataset.map(preprocess_function, batched=True)"
      ],
      "metadata": {
        "id": "J4EIWkfgQke3"
      },
      "execution_count": null,
      "outputs": []
    },
    {
      "cell_type": "code",
      "source": [
        "from huggingface_hub import login\n",
        "\n",
        "login()"
      ],
      "metadata": {
        "id": "GrbXqTAbj9-o"
      },
      "execution_count": null,
      "outputs": []
    },
    {
      "cell_type": "code",
      "source": [
        "from transformers import Trainer, TrainingArguments, AutoModelForSequenceClassification\n",
        "from sklearn.metrics import accuracy_score, f1_score\n",
        "\n",
        "# Load the model with the correct number of labels and mappings\n",
        "model_name = \"hyrinmansoor/text2frappe-s1-roberta\"\n",
        "model = AutoModelForSequenceClassification.from_pretrained(\n",
        "    model_name,\n",
        "    id2label=id2label,       # Pass the id2label mapping\n",
        "    label2id=label2id ,\n",
        "    ignore_mismatched_sizes=True# Pass the label2id mapping\n",
        ")\n",
        "training_args = TrainingArguments(\n",
        "    output_dir=\"/content/drive/MyDrive/Changai/S1/Model/ROBERTA_12-02-2025_1\",\n",
        "    eval_strategy=\"epoch\",\n",
        "    learning_rate=2e-5,\n",
        "    per_device_train_batch_size=16,\n",
        "    per_device_eval_batch_size=16,\n",
        "    num_train_epochs=25,\n",
        "    weight_decay=0.01,\n",
        "    save_total_limit=2,\n",
        "    load_best_model_at_end=True,\n",
        "    save_strategy=\"epoch\",\n",
        "    report_to=\"none\"\n",
        ")\n",
        "\n",
        "def compute_metrics(eval_pred):\n",
        "    logits, label = eval_pred\n",
        "    preds = logits.argmax(-1)\n",
        "    return {\n",
        "        \"accuracy\": accuracy_score(label, preds),\n",
        "        \"f1_macro\": f1_score(label, preds, average=\"macro\")\n",
        "    }\n",
        "\n",
        "# Create Trainer instance\n",
        "trainer = Trainer(\n",
        "    model=model,\n",
        "    args=training_args,\n",
        "    train_dataset=tokenized_train,\n",
        "    eval_dataset=tokenized_val,\n",
        "    compute_metrics=compute_metrics\n",
        ")\n",
        "\n",
        "# Train the model\n",
        "trainer.train()\n",
        "# Evaluate the model\n",
        "metrics = trainer.evaluate()\n",
        "print(metrics)\n"
      ],
      "metadata": {
        "id": "RnAKN5bsj7pr"
      },
      "execution_count": null,
      "outputs": []
    },
    {
      "cell_type": "code",
      "execution_count": null,
      "metadata": {
        "id": "KJ0ayoCxNGb-"
      },
      "outputs": [],
      "source": [
        "#save to drive and then test validate and then upload to hf if better.\n",
        "model.save_pretrained(\"/content/drive/MyDrive/Changai/S1/Model/ROBERTA_12-02-2025_1\")\n",
        "tokenizer.save_pretrained(\"/content/drive/MyDrive/Changai/S1/Model/ROBERTA_12-02-2025_1\")"
      ]
    },
    {
      "cell_type": "code",
      "source": [
        "import torch\n",
        "import pandas as pd\n",
        "from transformers import RobertaForSequenceClassification, RobertaTokenizerFast\n",
        "\n",
        "repo_id = \"hyrinmansoor/text2frappe-s1-roberta\"\n",
        "subfolder = \"ROBERTA_12-02-2025_1\"\n",
        "device = torch.device(\"cuda\" if torch.cuda.is_available() else \"cpu\")\n",
        "model = RobertaForSequenceClassification.from_pretrained(repo_id, subfolder=subfolder,id2label=id2label).to(device)\n",
        "tokenizer = RobertaTokenizerFast.from_pretrained(repo_id, subfolder=subfolder)\n",
        "# model_path = \"/content/drive/MyDrive/Changai/S1/Model/ROBERTA_12-02-2025_1\"\n",
        "\n",
        "test_data=[\n",
        "    {\"question\": \"How many sales invoices were issued in the last quarter?\", \"real_answer\": \"Sales Invoice\"},\n",
        "    {\"question\": \"What is the total outstanding amount for all sales invoices?\", \"real_answer\": \"Sales Invoice\"},\n",
        "    {\"question\": \"List all sales invoices with their status and customer name.\", \"real_answer\": \"Sales Invoice\"},\n",
        "    {\"question\": \"What is the average sales invoice amount this quarter?\", \"real_answer\": \"Sales Invoice\"},\n",
        "    {\"question\": \"Which customer has the highest total invoice amount this year?\", \"real_answer\": \"Sales Invoice\"},\n",
        "    {\"question\": \"How many purchase invoices were created this month?\", \"real_answer\": \"Purchase Invoice\"},\n",
        "    {\"question\": \"What is the total amount spent on purchase invoices last quarter?\", \"real_answer\": \"Purchase Invoice\"},\n",
        "    {\"question\": \"List all purchase invoices with supplier and payment status.\", \"real_answer\": \"Purchase Invoice\"},\n",
        "    {\"question\": \"What is the status of purchase invoice PI-0005?\", \"real_answer\": \"Purchase Invoice\"},\n",
        "    {\"question\": \"Which supplier has the highest total purchase invoice amount?\", \"real_answer\": \"Purchase Invoice\"},\n",
        "    {\"question\": \"How many employees are currently active?\", \"real_answer\": \"Employee\"},\n",
        "    {\"question\": \"List all employees with their department and designation.\", \"real_answer\": \"Employee\"},\n",
        "    {\"question\": \"What is the date of joining for employee EMP-0001?\", \"real_answer\": \"Employee\"},\n",
        "    {\"question\": \"Which employee has the highest salary?\", \"real_answer\": \"Employee\"},\n",
        "    {\"question\": \"How many employees are on probation?\", \"real_answer\": \"Employee\"},\n",
        "    {\"question\": \"How many sales orders were created this month?\", \"real_answer\": \"Sales Order\"},\n",
        "    {\"question\": \"What is the total amount for all sales orders this year?\", \"real_answer\": \"Sales Order\"},\n",
        "    {\"question\": \"List all sales orders with their customer and status.\", \"real_answer\": \"Sales Order\"},\n",
        "    {\"question\": \"What is the status of sales order SO-0003?\", \"real_answer\": \"Sales Order\"},\n",
        "    {\"question\": \"How many sales orders are pending delivery?\", \"real_answer\": \"Sales Order\"},\n",
        "    {\"question\": \"How many purchase orders were created last month?\", \"real_answer\": \"Purchase Order\"},\n",
        "    {\"question\": \"What is the total value of all purchase orders this year?\", \"real_answer\": \"Purchase Order\"},\n",
        "    {\"question\": \"List all purchase orders with supplier and status.\", \"real_answer\": \"Purchase Order\"},\n",
        "    {\"question\": \"What is the status of purchase order PO-0007?\", \"real_answer\": \"Purchase Order\"},\n",
        "    {\"question\": \"How many purchase orders are pending receipt?\", \"real_answer\": \"Purchase Order\"},\n",
        "    {\"question\": \"How many items are currently in stock?\", \"real_answer\": \"Item\"},\n",
        "    {\"question\": \"List all items with their item code and stock quantity.\", \"real_answer\": \"Item\"},\n",
        "    {\"question\": \"What is the stock quantity of item ITEM-0001?\", \"real_answer\": \"Item\"},\n",
        "    {\"question\": \"Which item has the highest stock quantity?\", \"real_answer\": \"Item\"},\n",
        "    {\"question\": \"How many items have no stock?\", \"real_answer\": \"Item\"}\n",
        "]\n",
        "\n",
        "\n",
        "# tokenizer = RobertaTokenizerFast.from_pretrained(model_path, local_files_only=True)\n",
        "results = []\n",
        "# for record in test_data:\n",
        "inputs = tokenizer(\n",
        "  record[\"question\"],\n",
        "  return_tensors=\"pt\",\n",
        "  truncation=True,\n",
        "  padding=\"max_length\",\n",
        "  max_length=128\n",
        ").to(device)\n",
        "\n",
        "with torch.no_grad():\n",
        "  logits = model(**inputs).logits\n",
        "  predicted_class_id = logits.argmax(dim=-1).item()\n",
        "print(id2label)\n",
        "predicted_doctype = id2label[predicted_class_id]\n",
        "results.append({\n",
        "  \"Question\": record[\"question\"],\n",
        "  \"Real Answer\": record[\"real_answer\"],\n",
        "  \"Model Prediction\": predicted_doctype,\n",
        "  \"Correct?\": \"✅\" if predicted_doctype == record[\"real_answer\"] else \"❌\"\n",
        "})"
      ],
      "metadata": {
        "id": "1xcIvxh8Bcpx"
      },
      "execution_count": null,
      "outputs": []
    },
    {
      "cell_type": "markdown",
      "source": [
        "To create a Repo in Hugging Face if not already created."
      ],
      "metadata": {
        "id": "d_kAxqDc_l3i"
      }
    },
    {
      "cell_type": "code",
      "source": [
        "from huggingface_hub import create_repo\n",
        "create_repo(\"text2frappe-s1\", private=True)"
      ],
      "metadata": {
        "id": "k3Njt-tZBoUu"
      },
      "execution_count": null,
      "outputs": []
    },
    {
      "cell_type": "markdown",
      "source": [
        "Push the updated Model to HF Hub using the Repo ID"
      ],
      "metadata": {
        "id": "2caOFemB_qJR"
      }
    },
    {
      "cell_type": "code",
      "source": [
        "from huggingface_hub import upload_folder\n",
        "\n",
        "upload_folder(\n",
        "    repo_id=\"hyrinmansoor/text2frappe-s1-roberta\",\n",
        "    folder_path=\"/content/drive/MyDrive/Changai/S1/Model/ROBERTA_12-02-2025_1\",\n",
        "    repo_type=\"model\",\n",
        "    commit_message=\"Upload updated model folder\",\n",
        "    ignore_patterns=[\"*.tmp\", \"*.log\"]  # optional, to skip temp files\n",
        ")\n"
      ],
      "metadata": {
        "id": "RkFyDmB6Bx49"
      },
      "execution_count": null,
      "outputs": []
    }
  ],
  "metadata": {
    "accelerator": "GPU",
    "colab": {
      "gpuType": "A100",
      "machine_shape": "hm",
      "provenance": [],
      "mount_file_id": "https://github.com/ERPGulf/changai/blob/hyrin/changai/notebooks/s1_roberta.ipynb",
      "authorship_tag": "ABX9TyPBUgWMrxUplXsts31I0btu"
    },
    "kernelspec": {
      "display_name": "Python 3",
      "name": "python3"
    },
    "language_info": {
      "name": "python"
    }
  },
  "nbformat": 4,
  "nbformat_minor": 0
}