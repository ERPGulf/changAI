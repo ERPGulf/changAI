{
  "cells": [
    {
      "cell_type": "code",
      "execution_count": null,
      "metadata": {
        "id": "Rp39mXFvd1Jf"
      },
      "outputs": [],
      "source": [
        "from google.colab import drive\n",
        "drive.mount('/content/drive')"
      ]
    },
    {
      "cell_type": "code",
      "execution_count": null,
      "metadata": {
        "collapsed": true,
        "id": "iMSdtj0_xyQM"
      },
      "outputs": [],
      "source": [
        "!pip install transformers datasets torch"
      ]
    },
    {
      "cell_type": "code",
      "source": [
        "import json\n",
        "with open('/content/combined_output_v1.json') as f:\n",
        "    raw_data = json.load(f)"
      ],
      "metadata": {
        "id": "yJMBm3sMMw_9"
      },
      "execution_count": null,
      "outputs": []
    },
    {
      "cell_type": "code",
      "metadata": {
        "id": "7b004c58"
      },
      "source": [
        "print(raw_data[:5])"
      ],
      "execution_count": null,
      "outputs": []
    },
    {
      "cell_type": "code",
      "execution_count": null,
      "metadata": {
        "id": "IKenV_vpzuc-"
      },
      "outputs": [],
      "source": [
        "from datasets import Dataset\n",
        "raw_data = Dataset.from_list(raw_data)\n",
        "split_dataset = raw_data.train_test_split(test_size=0.2, seed=42)"
      ]
    },
    {
      "cell_type": "code",
      "execution_count": null,
      "metadata": {
        "id": "svGQzZdN2dXd"
      },
      "outputs": [],
      "source": [
        "train_dataset = split_dataset['train']\n",
        "val_dataset = split_dataset['test']\n",
        "\n",
        "print(\"Train size:\", len(train_dataset))\n",
        "print(\"Validation size:\", len(val_dataset))"
      ]
    },
    {
      "cell_type": "code",
      "execution_count": null,
      "metadata": {
        "id": "LJaXeJfs8ow_"
      },
      "outputs": [],
      "source": [
        "print(train_dataset.column_names)"
      ]
    },
    {
      "cell_type": "code",
      "execution_count": null,
      "metadata": {
        "id": "OVo09k_J-EQu"
      },
      "outputs": [],
      "source": [
        "doctypes = sorted(list(set([','.join(record['output']) if isinstance(record['output'], list) else record['output'] for record in raw_data])))\n",
        "\n",
        "label2id = {label: idx for idx, label in enumerate(doctypes)}\n",
        "id2label = {idx: label for label, idx in label2id.items()}\n",
        "def encode_labels(example):\n",
        "    example['label'] = label2id[','.join(example['output']) if isinstance(example['output'], list) else example['output']]\n",
        "    return example\n",
        "\n",
        "train_dataset = train_dataset.map(encode_labels)\n",
        "val_dataset = val_dataset.map(encode_labels)\n",
        "print(doctypes)"
      ]
    },
    {
      "cell_type": "code",
      "source": [
        "import csv\n",
        "\n",
        "# Save to CSV format\n",
        "with open(\"doctype_mapping.csv\", \"w\", newline=\"\", encoding=\"utf-8\") as file:\n",
        "    writer = csv.writer(file)\n",
        "    writer.writerow([\"Doctype\", \"ID\"])  # Header\n",
        "    for label, idx in label2id.items():\n",
        "        writer.writerow([label, idx])\n",
        "\n",
        "print(\"Saved as doctype_mapping.csv\")"
      ],
      "metadata": {
        "id": "J4EIWkfgQke3"
      },
      "execution_count": null,
      "outputs": []
    },
    {
      "cell_type": "code",
      "execution_count": null,
      "metadata": {
        "id": "TNNbYIHG-8sp"
      },
      "outputs": [],
      "source": [
        "train_dataset[4:9]"
      ]
    },
    {
      "cell_type": "code",
      "execution_count": null,
      "metadata": {
        "id": "UQ1XcJcO-sWT"
      },
      "outputs": [],
      "source": [
        "from transformers import RobertaTokenizer\n",
        "\n",
        "tokenizer = RobertaTokenizer.from_pretrained('hyrinmansoor/text2frappe-s1-roberta')\n",
        "\n",
        "def preprocess_function(examples):\n",
        "    return tokenizer(examples['input'], truncation=True, padding=\"max_length\")\n",
        "\n",
        "tokenized_train = train_dataset.map(preprocess_function, batched=True)\n",
        "tokenized_val = val_dataset.map(preprocess_function, batched=True)"
      ]
    },
    {
      "cell_type": "code",
      "source": [
        "from huggingface_hub import login\n",
        "\n",
        "login()"
      ],
      "metadata": {
        "id": "GrbXqTAbj9-o"
      },
      "execution_count": null,
      "outputs": []
    },
    {
      "cell_type": "code",
      "source": [
        "from transformers import AutoTokenizer,AutoModelForSequenceClassification\n",
        "\n",
        "model_name = \"hyrinmansoor/text2frappe-s1-roberta\"  # can be swapped anytime\n",
        "tokenizer = AutoTokenizer.from_pretrained(model_name)\n",
        "model = AutoModelForSequenceClassification.from_pretrained(model_name)"
      ],
      "metadata": {
        "id": "RnAKN5bsj7pr"
      },
      "execution_count": null,
      "outputs": []
    },
    {
      "cell_type": "code",
      "execution_count": null,
      "metadata": {
        "id": "u2ul8PMTYsqE"
      },
      "outputs": [],
      "source": [
        "from transformers import Trainer, TrainingArguments, AutoModelForSequenceClassification\n",
        "\n",
        "training_args = TrainingArguments(\n",
        "    output_dir=\"./results/ROBERTA-t1\",\n",
        "    eval_strategy=\"epoch\",\n",
        "    learning_rate=2e-5,\n",
        "    per_device_train_batch_size=16,\n",
        "    per_device_eval_batch_size=16,\n",
        "    num_train_epochs=15,\n",
        "    weight_decay=0.01,\n",
        "    save_total_limit=2,\n",
        "    save_strategy=\"epoch\",\n",
        "    report_to=\"none\"\n",
        ")\n",
        "\n",
        "# Load the model with the correct number of labels and mappings\n",
        "model_name = \"hyrinmansoor/text2frappe-s1-roberta\"\n",
        "model = AutoModelForSequenceClassification.from_pretrained(\n",
        "    model_name,\n",
        "    id2label=id2label,       # Pass the id2label mapping\n",
        "    label2id=label2id ,\n",
        "    ignore_mismatched_sizes=True# Pass the label2id mapping\n",
        ")\n",
        "\n",
        "# Create Trainer instance\n",
        "trainer = Trainer(\n",
        "    model=model,\n",
        "    args=training_args,\n",
        "    train_dataset=tokenized_train,\n",
        "    eval_dataset=tokenized_val\n",
        ")\n",
        "\n",
        "# Train the model\n",
        "trainer.train()\n",
        "\n",
        "trainer.evaluate()"
      ]
    },
    {
      "cell_type": "code",
      "execution_count": null,
      "metadata": {
        "id": "KJ0ayoCxNGb-"
      },
      "outputs": [],
      "source": [
        "model.save_pretrained(\"/content/drive/MyDrive/Changai/S1/Model_trained_results/1\")\n",
        "tokenizer.save_pretrained(\"/content/drive/MyDrive/Changai/S1/Model_trained_results/1\")\n",
        "# model.push_to_hub(\"hyrinmansoor/text2frappe-s1-roberta\")\n",
        "# tokenizer.push_to_hub(\"hyrinmansoor/text2frappe-s1-roberta\")"
      ]
    },
    {
      "cell_type": "code",
      "source": [
        "from huggingface_hub import login\n",
        "\n",
        "login()"
      ],
      "metadata": {
        "id": "1xcIvxh8Bcpx"
      },
      "execution_count": null,
      "outputs": []
    },
    {
      "cell_type": "code",
      "source": [
        "from huggingface_hub import create_repo\n",
        "\n",
        "create_repo(\"text2frappe-s1\", private=True)"
      ],
      "metadata": {
        "id": "k3Njt-tZBoUu"
      },
      "execution_count": null,
      "outputs": []
    },
    {
      "cell_type": "code",
      "source": [
        "from huggingface_hub import upload_folder\n",
        "\n",
        "upload_folder(\n",
        "    repo_id=\"hyrinmansoor/text2frappe-s1-roberta\",\n",
        "    folder_path=\"/content/drive/MyDrive/Changai/S1/Model_trained_results/1\",\n",
        "    path_in_repo=\"\",  # root of the model repo\n",
        "    repo_type=\"model\"\n",
        ")\n"
      ],
      "metadata": {
        "id": "RkFyDmB6Bx49"
      },
      "execution_count": null,
      "outputs": []
    },
    {
      "cell_type": "code",
      "execution_count": null,
      "metadata": {
        "id": "DdV73PGwdqW8"
      },
      "outputs": [],
      "source": [
        "from transformers import RobertaTokenizerFast, RobertaForSequenceClassification\n",
        "# model_path = \"/content/drive/MyDrive/Changai/S1/Model\"\n",
        "\n",
        "# model = RobertaForSequenceClassification.from_pretrained(model_path, local_files_only=True)\n",
        "# tokenizer = RobertaTokenizerFast.from_pretrained(model_path, local_files_only=True)"
      ]
    },
    {
      "cell_type": "code",
      "source": [
        "print(id2label)\n",
        "with open(\"id2label.json\",\"w\",encoding=\"utf-8\") as f:\n",
        "  json.dump(id2label,f, indent=4, ensure_ascii=False)"
      ],
      "metadata": {
        "id": "bsVR5uiOD4mX"
      },
      "execution_count": null,
      "outputs": []
    },
    {
      "cell_type": "code",
      "execution_count": null,
      "metadata": {
        "id": "fERPlbaHkrS0"
      },
      "outputs": [],
      "source": [
        "import torch\n",
        "import pandas as pd\n",
        "\n",
        "\n",
        "device = torch.device(\"cuda\" if torch.cuda.is_available() else \"cpu\")\n",
        "model_path = \"/content/drive/MyDrive/Changai/S1/Model_trained_results/1\"\n",
        "\n",
        "\n",
        "model = RobertaForSequenceClassification.from_pretrained(\n",
        "    model_path,\n",
        "    id2label=id2label,\n",
        "    label2id=label2id,\n",
        "    local_files_only=True,\n",
        "    ignore_mismatched_sizes=True  # important!\n",
        ").to(device)\n",
        "\n",
        "\n",
        "tokenizer = RobertaTokenizerFast.from_pretrained(model_path, local_files_only=True)\n",
        "with open(\"/content/openAI_SD_raw.json\",\"r\",encoding=\"utf-8\") as f:\n",
        "  test_data=json.load(f)\n",
        "\n",
        "# test_data=[\n",
        "#   { \"input\": \"new staff joined this yr?\", \"output\": [\"Employee\"] },\n",
        "#   { \"input\": \"inactive workers list rn\", \"output\": [\"Employee\"] },\n",
        "#   { \"input\": \"who on leave today?\", \"output\": [\"Employee\"] },\n",
        "\n",
        "#   { \"input\": \"clients added last 2 wks?\", \"output\": [\"Customer\"] },\n",
        "#   { \"input\": \"any cust no orders yet?\", \"output\": [\"Customer\"] },\n",
        "#   { \"input\": \"overdue bills clients?\", \"output\": [\"Customer\"] },\n",
        "\n",
        "#   { \"input\": \"open so pending deliver?\", \"output\": [\"Sales Order\"] },\n",
        "#   { \"input\": \"sales orders this wk?\", \"output\": [\"Sales Order\"] },\n",
        "#   { \"input\": \"big so amt rn?\", \"output\": [\"Sales Order\"] },\n",
        "\n",
        "#   { \"input\": \"unpaid invoices show\", \"output\": [\"Sales Invoice\"] },\n",
        "#   { \"input\": \"avg invoice val mnth?\", \"output\": [\"Sales Invoice\"] },\n",
        "#   { \"input\": \"last 5 invoices any cust\", \"output\": [\"Sales Invoice\"] },\n",
        "\n",
        "#   { \"input\": \"open po list?\", \"output\": [\"Purchase Order\"] },\n",
        "#   { \"input\": \"po made this quarter\", \"output\": [\"Purchase Order\"] },\n",
        "#   { \"input\": \"cancelled purchase orders?\", \"output\": [\"Purchase Order\"] },\n",
        "\n",
        "#   { \"input\": \"unpaid purchase inv now?\", \"output\": [\"Purchase Invoice\"] },\n",
        "#   { \"input\": \"avg pi cost mnth?\", \"output\": [\"Purchase Invoice\"] },\n",
        "#   { \"input\": \"top 5 purchase invoices\", \"output\": [\"Purchase Invoice\"] },\n",
        "\n",
        "#   { \"input\": \"suppliers dubai list\", \"output\": [\"Supplier\"] },\n",
        "#   { \"input\": \"inactive supplier rn\", \"output\": [\"Supplier\"] },\n",
        "#   { \"input\": \"supplier max inv\", \"output\": [\"Supplier\"] },\n",
        "\n",
        "#   { \"input\": \"projects still running\", \"output\": [\"Project\"] },\n",
        "#   { \"input\": \"proj started last mnth\", \"output\": [\"Project\"] },\n",
        "#   { \"input\": \"any delayed projects?\", \"output\": [\"Project\"] },\n",
        "\n",
        "#   { \"input\": \"low stock items?\", \"output\": [\"Item\"] },\n",
        "#   { \"input\": \"products no sale mnth\", \"output\": [\"Item\"] },\n",
        "#   { \"input\": \"top 10 selling goods\", \"output\": [\"Item\"] },\n",
        "\n",
        "#   { \"input\": \"open tasks today\", \"output\": [\"Task\"] },\n",
        "#   { \"input\": \"tasks done last wk\", \"output\": [\"Task\"] },\n",
        "#   { \"input\": \"pending tasks hr dept\", \"output\": [\"Task\"] },\n",
        "\n",
        "#   { \"input\": \"stock entries today?\", \"output\": [\"Stock Entry\"] },\n",
        "#   { \"input\": \"recent stock entry item x\", \"output\": [\"Stock Entry\"] },\n",
        "#   { \"input\": \"cancelled stock entries\", \"output\": [\"Stock Entry\"] },\n",
        "#    { \"input\": \"new employees last mnth?\", \"output\": [\"Employee\"] },\n",
        "#   { \"input\": \"staff still active?\", \"output\": [\"Employee\"] },\n",
        "#   { \"input\": \"emp on leave rn\", \"output\": [\"Employee\"] },\n",
        "\n",
        "#   { \"input\": \"show me new cust this week\", \"output\": [\"Customer\"] },\n",
        "#   { \"input\": \"any clients with 0 invoices\", \"output\": [\"Customer\"] },\n",
        "#   { \"input\": \"cust overdue pay list\", \"output\": [\"Customer\"] },\n",
        "\n",
        "#   { \"input\": \"sales orders yet to ship\", \"output\": [\"Sales Order\"] },\n",
        "#   { \"input\": \"so count today?\", \"output\": [\"Sales Order\"] },\n",
        "#   { \"input\": \"biggest sales order amt\", \"output\": [\"Sales Order\"] },\n",
        "\n",
        "#   { \"input\": \"inv not paid still\", \"output\": [\"Sales Invoice\"] },\n",
        "#   { \"input\": \"avg sales inv val quarter\", \"output\": [\"Sales Invoice\"] },\n",
        "#   { \"input\": \"show 10 latest invoices\", \"output\": [\"Sales Invoice\"] },\n",
        "\n",
        "#   { \"input\": \"open pos show\", \"output\": [\"Purchase Order\"] },\n",
        "#   { \"input\": \"pos created this mnth?\", \"output\": [\"Purchase Order\"] },\n",
        "#   { \"input\": \"cancelled pos list\", \"output\": [\"Purchase Order\"] },\n",
        "\n",
        "#   { \"input\": \"purchase inv unpaid rn\", \"output\": [\"Purchase Invoice\"] },\n",
        "#   { \"input\": \"pi avg amount this quarter\", \"output\": [\"Purchase Invoice\"] },\n",
        "#   { \"input\": \"purchase invoices top value\", \"output\": [\"Purchase Invoice\"] },\n",
        "\n",
        "#   { \"input\": \"suppliers inactive list\", \"output\": [\"Supplier\"] },\n",
        "#   { \"input\": \"supplier with most pos\", \"output\": [\"Supplier\"] },\n",
        "#    { \"input\": \"new staff onboard this mnth?\", \"output\": [\"Employee\"] },\n",
        "#   { \"input\": \"who is on leave rn\", \"output\": [\"Employee\"] },\n",
        "#   { \"input\": \"inactive emp list pls\", \"output\": [\"Employee\"] },\n",
        "\n",
        "#   { \"input\": \"new clients joined this wk?\", \"output\": [\"Customer\"] },\n",
        "#   { \"input\": \"cust not ordered anything yet\", \"output\": [\"Customer\"] },\n",
        "#   { \"input\": \"overdue bills for customers rn\", \"output\": [\"Customer\"] },\n",
        "\n",
        "#   { \"input\": \"open so still not shipped\", \"output\": [\"Sales Order\"] },\n",
        "#   { \"input\": \"so count today?\", \"output\": [\"Sales Order\"] },\n",
        "#   { \"input\": \"highest value sales order rn\", \"output\": [\"Sales Order\"] },\n",
        "\n",
        "#   { \"input\": \"show unpaid invoices rn\", \"output\": [\"Sales Invoice\"] },\n",
        "#   { \"input\": \"avg invoice amt this quarter\", \"output\": [\"Sales Invoice\"] },\n",
        "#   { \"input\": \"10 latest invoices pls\", \"output\": [\"Sales Invoice\"] },\n",
        "\n",
        "#   { \"input\": \"open po list rn\", \"output\": [\"Purchase Order\"] },\n",
        "#   { \"input\": \"pos created this mnth\", \"output\": [\"Purchase Order\"] },\n",
        "#   { \"input\": \"cancelled purchase orders show\", \"output\": [\"Purchase Order\"] },\n",
        "\n",
        "#   { \"input\": \"unpaid purchase invs rn\", \"output\": [\"Purchase Invoice\"] },\n",
        "#   { \"input\": \"avg purchase invoice val mnth\", \"output\": [\"Purchase Invoice\"] },\n",
        "#   { \"input\": \"top 5 purchase invoices val\", \"output\": [\"Purchase Invoice\"] },\n",
        "\n",
        "#   { \"input\": \"suppliers in dubai list\", \"output\": [\"Supplier\"] },\n",
        "#   { \"input\": \"inactive suppliers rn\", \"output\": [\"Supplier\"] },\n",
        "#   { \"input\": \"supplier with max invoices\", \"output\": [\"Supplier\"] },\n",
        "\n",
        "#   { \"input\": \"projects still running now\", \"output\": [\"Project\"] },\n",
        "#   { \"input\": \"proj started last mnth?\", \"output\": [\"Project\"] },\n",
        "#   { \"input\": \"any delayed projects rn\", \"output\": [\"Project\"] },\n",
        "\n",
        "#   { \"input\": \"low stock items show\", \"output\": [\"Item\"] },\n",
        "#   { \"input\": \"items not sold this mnth\", \"output\": [\"Item\"] },\n",
        "#   { \"input\": \"top 10 selling items\", \"output\": [\"Item\"] },\n",
        "\n",
        "#   { \"input\": \"open tasks today rn\", \"output\": [\"Task\"] },\n",
        "#   { \"input\": \"tasks completed last wk\", \"output\": [\"Task\"] },\n",
        "#   { \"input\": \"pending tasks hr dept\", \"output\": [\"Task\"] },\n",
        "\n",
        "#   { \"input\": \"stock entries today pls\", \"output\": [\"Stock Entry\"] },\n",
        "#   { \"input\": \"recent stock entry item y\", \"output\": [\"Stock Entry\"] },\n",
        "#   { \"input\": \"cancelled stock entries list\", \"output\": [\"Stock Entry\"] }\n",
        "\n",
        "# ]\n",
        "\n",
        "results = []\n",
        "for record in test_data:\n",
        "    inputs = tokenizer(\n",
        "        record[\"input\"],\n",
        "        return_tensors=\"pt\",\n",
        "        truncation=True,\n",
        "        padding=\"max_length\",\n",
        "        max_length=128\n",
        "    ).to(device)\n",
        "\n",
        "    with torch.no_grad():\n",
        "        logits = model(**inputs).logits\n",
        "        predicted_class_id = logits.argmax(dim=-1).item()\n",
        "\n",
        "    predicted_doctype = id2label[predicted_class_id]\n",
        "    results.append({\n",
        "        \"Question\": record[\"input\"],\n",
        "        \"Real Answer\": record[\"output\"][0],\n",
        "        \"Model Prediction\": predicted_doctype,\n",
        "        \"Correct?\": \"✅\" if predicted_doctype == record[\"output\"][0] else \"❌\"\n",
        "    })\n",
        "\n",
        "# Output\n",
        "df_results = pd.DataFrame(results)\n",
        "print(df_results)"
      ]
    },
    {
      "cell_type": "code",
      "source": [
        "import torch, pandas as pd\n",
        "with open(\"/content/openAI_SD_raw.json\",\"r\",encoding=\"utf-8\") as f:\n",
        "  test_data=json.load(f)\n",
        "correct = 0\n",
        "total = 0\n",
        "rows = []\n",
        "results=[]\n",
        "for rec in test_data:\n",
        "    gold = rec[\"output\"][0]\n",
        "    enc = tokenizer(\n",
        "        rec[\"input\"],\n",
        "        return_tensors=\"pt\",\n",
        "        truncation=True,\n",
        "        padding=\"max_length\",\n",
        "        max_length=128\n",
        "    ).to(device)\n",
        "\n",
        "    with torch.no_grad():\n",
        "        logits = model(**enc).logits\n",
        "        predicted_class_id = logits.argmax(dim=-1).item()\n",
        "\n",
        "    predicted_doctype = id2label[predicted_class_id]\n",
        "\n",
        "    correct += (predicted_doctype == gold)\n",
        "    total += 1\n",
        "    results.append({\n",
        "        \"Question\": rec[\"input\"],\n",
        "        \"Real Answer\": rec[\"output\"][0],\n",
        "        \"Model Prediction\": predicted_doctype,\n",
        "        \"Correct?\": \"✅\" if predicted_doctype == rec[\"output\"][0] else \"❌\"\n",
        "    })\n",
        "\n",
        "acc = correct / total if total else 0.0\n",
        "print(\"Accuracy:\", round(acc, 4))\n",
        "df_results = pd.DataFrame(results)\n",
        "df_results.to_csv(\"/content/results.csv\",index=False)\n"
      ],
      "metadata": {
        "id": "MzFJUP2jgUBM"
      },
      "execution_count": null,
      "outputs": []
    }
  ],
  "metadata": {
    "accelerator": "GPU",
    "colab": {
      "gpuType": "A100",
      "machine_shape": "hm",
      "provenance": [],
      "mount_file_id": "https://github.com/ERPGulf/changai/blob/hyrin/changai/notebooks/s1_roberta.ipynb",
      "authorship_tag": "ABX9TyNXuBoXPBleCopI2VA8W8uz"
    },
    "kernelspec": {
      "display_name": "Python 3",
      "name": "python3"
    },
    "language_info": {
      "name": "python"
    }
  },
  "nbformat": 4,
  "nbformat_minor": 0
}